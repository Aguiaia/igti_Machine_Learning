{
  "nbformat": 4,
  "nbformat_minor": 0,
  "metadata": {
    "colab": {
      "name": "Aula_8.1__Aula_Prática__Regressão.ipynb",
      "provenance": [],
      "collapsed_sections": []
    },
    "kernelspec": {
      "name": "python3",
      "display_name": "Python 3"
    }
  },
  "cells": [
    {
      "cell_type": "code",
      "metadata": {
        "id": "vwd1aR7_WL-M",
        "colab_type": "code",
        "colab": {}
      },
      "source": [
        "# *******************************************************\n",
        "# IGTI - Bootcamp Analista de Machine Learning\n",
        "# Módulo 3 - Seleção de Modelos de ML\n",
        "# Aula 8.1 - Aula Prática - Regressão\n",
        "# *******************************************************"
      ],
      "execution_count": 1,
      "outputs": []
    },
    {
      "cell_type": "code",
      "metadata": {
        "id": "zEkG9mekbyYz",
        "colab_type": "code",
        "colab": {}
      },
      "source": [
        "# Importa recursos\n",
        "\n",
        "import matplotlib.pyplot as plt\n",
        "import numpy as np\n",
        "from sklearn import datasets, linear_model\n",
        "from sklearn.metrics import mean_squared_error, median_absolute_error\n",
        "from sklearn.model_selection import train_test_split"
      ],
      "execution_count": 2,
      "outputs": []
    },
    {
      "cell_type": "code",
      "metadata": {
        "id": "BviNFau0b1AL",
        "colab_type": "code",
        "colab": {}
      },
      "source": [
        "# Carregue o dataset\n",
        "\n",
        "X, y = datasets.load_diabetes( return_X_y = True)"
      ],
      "execution_count": 3,
      "outputs": []
    },
    {
      "cell_type": "code",
      "metadata": {
        "id": "Znw9s_e2b5Jb",
        "colab_type": "code",
        "colab": {}
      },
      "source": [
        "# Separamos um atributo para usar\n",
        "\n",
        "X = X[:, np.newaxis, 2]"
      ],
      "execution_count": 4,
      "outputs": []
    },
    {
      "cell_type": "code",
      "metadata": {
        "id": "ZKEAB7Vlb7f7",
        "colab_type": "code",
        "colab": {}
      },
      "source": [
        "# Separe dados pra testar\n",
        "\n",
        "X_train, X_test, y_train, y_test = train_test_split( X, y, test_size = 0.20, random_state = 42)"
      ],
      "execution_count": 5,
      "outputs": []
    },
    {
      "cell_type": "code",
      "metadata": {
        "id": "DcoBF0jSb9XM",
        "colab_type": "code",
        "colab": {}
      },
      "source": [
        "# Instancie\n",
        "\n",
        "regr = linear_model.LinearRegression()"
      ],
      "execution_count": 6,
      "outputs": []
    },
    {
      "cell_type": "code",
      "metadata": {
        "id": "vXMXTsx5b_gD",
        "colab_type": "code",
        "colab": {
          "base_uri": "https://localhost:8080/",
          "height": 34
        },
        "outputId": "eb784e8c-8382-43de-dab1-76ccbf0c7403"
      },
      "source": [
        "# Treine o modelo\n",
        "\n",
        "regr.fit( X_train, y_train)"
      ],
      "execution_count": 7,
      "outputs": [
        {
          "output_type": "execute_result",
          "data": {
            "text/plain": [
              "LinearRegression(copy_X=True, fit_intercept=True, n_jobs=None, normalize=False)"
            ]
          },
          "metadata": {
            "tags": []
          },
          "execution_count": 7
        }
      ]
    },
    {
      "cell_type": "code",
      "metadata": {
        "id": "RbYTacZ9cBiz",
        "colab_type": "code",
        "colab": {}
      },
      "source": [
        "# Teste o modelo treinado\n",
        "\n",
        "y_pred = regr.predict( X_test)"
      ],
      "execution_count": 8,
      "outputs": []
    },
    {
      "cell_type": "code",
      "metadata": {
        "id": "WorNrmifcDC6",
        "colab_type": "code",
        "colab": {
          "base_uri": "https://localhost:8080/",
          "height": 50
        },
        "outputId": "844cdec3-2361-4b2d-f9ba-2d70c3a5de9d"
      },
      "source": [
        "# Métricas de qualidade\n",
        "\n",
        "print( 'Erro médio quadrático: %.2f'\n",
        "      % mean_squared_error( y_test, y_pred))\n",
        "\n",
        "print( 'Erro mediano ablosuto: %.2f'\n",
        "      % median_absolute_error( y_test, y_pred))"
      ],
      "execution_count": 9,
      "outputs": [
        {
          "output_type": "stream",
          "text": [
            "Erro médio quadrático: 4061.83\n",
            "Erro mediano ablosuto: 43.51\n"
          ],
          "name": "stdout"
        }
      ]
    },
    {
      "cell_type": "code",
      "metadata": {
        "id": "hlzK_kekcG4D",
        "colab_type": "code",
        "colab": {
          "base_uri": "https://localhost:8080/",
          "height": 252
        },
        "outputId": "9ecca086-c37b-4cd7-f5dd-66e548f2450d"
      },
      "source": [
        "# Gráfico\n",
        "\n",
        "plt.scatter( X_test, y_test, color='black')\n",
        "plt.plot( X_test, y_pred, color='blue', linewidth=3)\n",
        "plt.xticks(())\n",
        "plt.yticks(())\n",
        "plt.show()\n"
      ],
      "execution_count": 10,
      "outputs": [
        {
          "output_type": "display_data",
          "data": {
            "image/png": "[encoded data removed]",
            "text/plain": [
              "<Figure size 432x288 with 1 Axes>"
            ]
          },
          "metadata": {
            "tags": []
          }
        }
      ]
    },
    {
      "cell_type": "code",
      "metadata": {
        "colab_type": "code",
        "id": "8Mpr5RBZc6in",
        "colab": {}
      },
      "source": [
        "# *******************************************************\n",
        "# Fim\n",
        "# *******************************************************"
      ],
      "execution_count": null,
      "outputs": []
    }
  ]
}