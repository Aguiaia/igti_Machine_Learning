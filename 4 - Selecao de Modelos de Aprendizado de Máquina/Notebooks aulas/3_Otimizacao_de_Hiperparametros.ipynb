{
  "nbformat": 4,
  "nbformat_minor": 0,
  "metadata": {
    "colab": {
      "name": "Aula_8_3__Aula_Prática__Otimização_de_Hiperparâmetros.ipynb",
      "provenance": [],
      "collapsed_sections": []
    },
    "kernelspec": {
      "name": "python3",
      "display_name": "Python 3"
    }
  },
  "cells": [
    {
      "cell_type": "code",
      "metadata": {
        "id": "vwd1aR7_WL-M",
        "colab_type": "code",
        "colab": {}
      },
      "source": [
        "# *******************************************************\n",
        "# IGTI - Bootcamp Analista de Machine Learning\n",
        "# Módulo 3 - Seleção de Modelos de ML\n",
        "# Aula 8.3 - Aula Prática - Otimização de Hiperparâmetros\n",
        "# *******************************************************"
      ],
      "execution_count": 1,
      "outputs": []
    },
    {
      "cell_type": "code",
      "metadata": {
        "id": "zEkG9mekbyYz",
        "colab_type": "code",
        "colab": {}
      },
      "source": [
        "# Carregando o dataset\n",
        "\n",
        "from sklearn.datasets import load_wine\n",
        "\n",
        "wine = load_wine()"
      ],
      "execution_count": 2,
      "outputs": []
    },
    {
      "cell_type": "code",
      "metadata": {
        "id": "TkwTqnqSskmB",
        "colab_type": "code",
        "colab": {}
      },
      "source": [
        "# Exemplos de acesso aos dados\n",
        "\n",
        "X = wine.data[:, :] # Features de cada elemento\n",
        "y = wine.target # Classes de cada elemento"
      ],
      "execution_count": 3,
      "outputs": []
    },
    {
      "cell_type": "code",
      "metadata": {
        "id": "BviNFau0b1AL",
        "colab_type": "code",
        "colab": {}
      },
      "source": [
        "# ------------------------------\n",
        "# É preciso treinar o classificador, e testar o seu desempenho com dados \"novos\"\n",
        "# Aqui, dividimos os dados em treino e teswte, para podermos testar nosso desempenho depois.\n",
        "\n",
        "from sklearn.model_selection import train_test_split\n",
        "\n",
        "X_train, X_test, y_train, y_test = train_test_split( X, y, test_size = 0.33, random_state = 42)\n",
        "# o uso dessa função facilita, mas não é obrigatório. Você pode dividir os seus dados manualmente."
      ],
      "execution_count": 4,
      "outputs": []
    },
    {
      "cell_type": "code",
      "metadata": {
        "id": "B5ZpAgGztKXv",
        "colab_type": "code",
        "colab": {}
      },
      "source": [
        "# ------------------------------\n",
        "# Carregando e treinando os classificadores"
      ],
      "execution_count": 5,
      "outputs": []
    },
    {
      "cell_type": "code",
      "metadata": {
        "id": "Znw9s_e2b5Jb",
        "colab_type": "code",
        "colab": {}
      },
      "source": [
        "# Ramdom Forest\n",
        "\n",
        "from sklearn.ensemble import RandomForestClassifier\n",
        "\n",
        "rfc = RandomForestClassifier()\n",
        "rfc.fit( X_train, y_train)\n",
        "y_pred = rfc.predict( X_test)"
      ],
      "execution_count": 6,
      "outputs": []
    },
    {
      "cell_type": "code",
      "metadata": {
        "id": "y5R18wXLtPSH",
        "colab_type": "code",
        "colab": {}
      },
      "source": [
        "# Métricas do Ramdom Forest\n",
        "\n",
        "from sklearn.metrics import accuracy_score, recall_score, precision_score\n",
        "\n",
        "rfc_acc = round( accuracy_score( y_test, y_pred), 6) # round é para arredondar\n",
        "rfc_recall = round( recall_score( y_test, y_pred, average = 'weighted'), 6) # round é para arredondar\n",
        "rfc_precision = round( precision_score( y_test, y_pred, average = 'weighted'), 6) # round é para arredondar"
      ],
      "execution_count": 7,
      "outputs": []
    },
    {
      "cell_type": "code",
      "metadata": {
        "id": "rUluzEnjrlAc",
        "colab_type": "code",
        "colab": {}
      },
      "source": [
        "# ------------------------------\n",
        "# KNN\n",
        "\n",
        "from sklearn.neighbors import KNeighborsClassifier\n",
        "\n",
        "knn = KNeighborsClassifier( n_neighbors = 3)\n",
        "knn.fit( X_train, y_train)\n",
        "y_pred = knn.predict( X_test)"
      ],
      "execution_count": 8,
      "outputs": []
    },
    {
      "cell_type": "code",
      "metadata": {
        "id": "Pc_vcI76tewH",
        "colab_type": "code",
        "colab": {}
      },
      "source": [
        "# Métricas do KNN\n",
        "\n",
        "knn_acc = round( accuracy_score( y_test, y_pred), 6) # round é para arredondar\n",
        "knn_recall = round( recall_score( y_test, y_pred, average = 'weighted'), 6) # round é para arredondar\n",
        "knn_precision = round( precision_score( y_test, y_pred, average = 'weighted'), 6) # round é para arredondar"
      ],
      "execution_count": 9,
      "outputs": []
    },
    {
      "cell_type": "code",
      "metadata": {
        "id": "K69PydDXruPs",
        "colab_type": "code",
        "colab": {
          "base_uri": "https://localhost:8080/",
          "height": 134
        },
        "outputId": "1bf7245d-45bd-4fe4-9d0e-81f115e17a47"
      },
      "source": [
        "# ------------------------------\n",
        "# Comparação\n",
        "\n",
        "print( \"KNN vs Random Forests\\n\")\n",
        "print( \"Classes: {0}\\n\".format( wine.target_names))\n",
        "print( \"Acurácia: {0} vs {1}\".format( knn_acc, rfc_acc))\n",
        "print( \"Recall: {0} vs {1}\".format( knn_recall, rfc_recall))\n",
        "print( \"Precisão: {0} vs {1}\".format( knn_precision, rfc_precision))"
      ],
      "execution_count": 10,
      "outputs": [
        {
          "output_type": "stream",
          "text": [
            "KNN vs Random Forests\n",
            "\n",
            "Classes: ['class_0' 'class_1' 'class_2']\n",
            "\n",
            "Acurácia: 0.694915 vs 1.0\n",
            "Recall: 0.694915 vs 1.0\n",
            "Precisão: 0.698231 vs 1.0\n"
          ],
          "name": "stdout"
        }
      ]
    },
    {
      "cell_type": "code",
      "metadata": {
        "id": "MCJ8Rv_FrzX3",
        "colab_type": "code",
        "colab": {
          "base_uri": "https://localhost:8080/",
          "height": 84
        },
        "outputId": "71f40eb7-0513-45e0-bc68-e536bcbecec7"
      },
      "source": [
        "# ------------------------------\n",
        "# Na Validação Cruzada\n",
        "\n",
        "from sklearn.model_selection import cross_val_score\n",
        "\n",
        "cv_knn = cross_val_score( knn, X, y)\n",
        "cv_rfc = cross_val_score( rfc, X, y)\n",
        "\n",
        "print( \"\\nValidação Cruzada KNN: {}\".format( cv_knn))\n",
        "print( \"\\nValidação Cruzada RFC: {}\".format( cv_rfc))"
      ],
      "execution_count": 11,
      "outputs": [
        {
          "output_type": "stream",
          "text": [
            "\n",
            "Validação Cruzada KNN: [0.63888889 0.69444444 0.66666667 0.65714286 0.85714286]\n",
            "\n",
            "Validação Cruzada RFC: [0.91666667 0.94444444 0.97222222 1.         1.        ]\n"
          ],
          "name": "stdout"
        }
      ]
    },
    {
      "cell_type": "code",
      "metadata": {
        "id": "jM4XFKh7y7zd",
        "colab_type": "code",
        "colab": {
          "base_uri": "https://localhost:8080/",
          "height": 50
        },
        "outputId": "23abad12-514e-4eeb-8e09-35cd746e9052"
      },
      "source": [
        "# Verifica médias\n",
        "# RFC\n",
        "\n",
        "sum_cv_rfc = 0\n",
        "\n",
        "for cv_score in cv_rfc:\n",
        "  sum_cv_rfc = sum_cv_rfc + cv_score\n",
        "\n",
        "print(\"\\nResultado RFC: {0}\".format( sum_cv_rfc/5))"
      ],
      "execution_count": 12,
      "outputs": [
        {
          "output_type": "stream",
          "text": [
            "\n",
            "Resultado RFC: 0.9666666666666668\n"
          ],
          "name": "stdout"
        }
      ]
    },
    {
      "cell_type": "code",
      "metadata": {
        "id": "nhTfiQPO0MNW",
        "colab_type": "code",
        "colab": {
          "base_uri": "https://localhost:8080/",
          "height": 50
        },
        "outputId": "ecf12e3c-2a6d-4ad3-dd6f-0ab75b5c476b"
      },
      "source": [
        "# Verifica médias\n",
        "# KNN\n",
        "\n",
        "sum_cv_knn = 0\n",
        "\n",
        "for cv_score in cv_knn:\n",
        "  sum_cv_knn = sum_cv_knn + cv_score\n",
        "\n",
        "print(\"\\nResultado KNN: {0}\".format( sum_cv_knn/5))"
      ],
      "execution_count": 13,
      "outputs": [
        {
          "output_type": "stream",
          "text": [
            "\n",
            "Resultado KNN: 0.7028571428571428\n"
          ],
          "name": "stdout"
        }
      ]
    },
    {
      "cell_type": "code",
      "metadata": {
        "id": "q_9LcosS3q6j",
        "colab_type": "code",
        "colab": {}
      },
      "source": [
        "# ------------------------------\n",
        "# Buscando hiperparâmetros\n",
        "from sklearn.model_selection import GridSearchCV"
      ],
      "execution_count": 14,
      "outputs": []
    },
    {
      "cell_type": "code",
      "metadata": {
        "id": "MpLTrhRe3rvB",
        "colab_type": "code",
        "colab": {
          "base_uri": "https://localhost:8080/",
          "height": 34
        },
        "outputId": "9b979ab7-75fb-42fd-8024-39997cd94262"
      },
      "source": [
        "# RFC\n",
        "parameters = {'min_samples_split':(2,6)}\n",
        "rfc_hps = GridSearchCV( rfc, parameters)\n",
        "rfc_hps.fit( X, y)\n",
        "print(\"Melhor valor RFC para 'min_samples_split': {0}\".format( rfc_hps.best_params_['min_samples_split']))"
      ],
      "execution_count": 17,
      "outputs": [
        {
          "output_type": "stream",
          "text": [
            "Melhor valor RFC para 'min_samples_split': 6\n"
          ],
          "name": "stdout"
        }
      ]
    },
    {
      "cell_type": "code",
      "metadata": {
        "id": "6-5W1dSO4jQi",
        "colab_type": "code",
        "colab": {
          "base_uri": "https://localhost:8080/",
          "height": 34
        },
        "outputId": "d1b384d5-294a-4082-e351-3a0f2373e391"
      },
      "source": [
        "# KNN\n",
        "parameters = {'n_neighbors':(1,20)}\n",
        "knn_hps = GridSearchCV( knn, parameters)\n",
        "knn_hps.fit( X, y)\n",
        "print(\"Melhor valor KNN para 'n_neighbors': {0}\".format( knn_hps.best_params_['n_neighbors']))"
      ],
      "execution_count": 16,
      "outputs": [
        {
          "output_type": "stream",
          "text": [
            "Melhor valor KNN para 'n_neighbors': 1\n"
          ],
          "name": "stdout"
        }
      ]
    },
    {
      "cell_type": "code",
      "metadata": {
        "colab_type": "code",
        "id": "8Mpr5RBZc6in",
        "colab": {}
      },
      "source": [
        "# *******************************************************\n",
        "# Fim\n",
        "# *******************************************************"
      ],
      "execution_count": null,
      "outputs": []
    }
  ]
}