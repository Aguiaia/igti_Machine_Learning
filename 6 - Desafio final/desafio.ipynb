{
 "cells": [
  {
   "cell_type": "markdown",
   "metadata": {},
   "source": [
    "# Desafio Final - IGTI - Analista de Machine Learning"
   ]
  },
  {
   "cell_type": "code",
   "execution_count": 1,
   "metadata": {},
   "outputs": [],
   "source": [
    "import numpy as np\n",
    "import matplotlib.pyplot as plt\n",
    "import pandas as pd"
   ]
  },
  {
   "cell_type": "code",
   "execution_count": 2,
   "metadata": {},
   "outputs": [],
   "source": [
    "cars = pd.read_csv('cars.csv')"
   ]
  },
  {
   "cell_type": "code",
   "execution_count": 3,
   "metadata": {},
   "outputs": [
    {
     "output_type": "execute_result",
     "data": {
      "text/plain": "    mpg  cylinders cubicinches   hp weightlbs  time-to-60  year     brand\n0  14.0          8         350  165      4209          12  1972       US.\n1  31.9          4          89   71      1925          14  1980   Europe.\n2  17.0          8         302  140      3449          11  1971       US.\n3  15.0          8         400  150      3761          10  1971       US.\n4  30.5          4          98   63      2051          17  1978       US.",
      "text/html": "<div>\n<style scoped>\n    .dataframe tbody tr th:only-of-type {\n        vertical-align: middle;\n    }\n\n    .dataframe tbody tr th {\n        vertical-align: top;\n    }\n\n    .dataframe thead th {\n        text-align: right;\n    }\n</style>\n<table border=\"1\" class=\"dataframe\">\n  <thead>\n    <tr style=\"text-align: right;\">\n      <th></th>\n      <th>mpg</th>\n      <th>cylinders</th>\n      <th>cubicinches</th>\n      <th>hp</th>\n      <th>weightlbs</th>\n      <th>time-to-60</th>\n      <th>year</th>\n      <th>brand</th>\n    </tr>\n  </thead>\n  <tbody>\n    <tr>\n      <th>0</th>\n      <td>14.0</td>\n      <td>8</td>\n      <td>350</td>\n      <td>165</td>\n      <td>4209</td>\n      <td>12</td>\n      <td>1972</td>\n      <td>US.</td>\n    </tr>\n    <tr>\n      <th>1</th>\n      <td>31.9</td>\n      <td>4</td>\n      <td>89</td>\n      <td>71</td>\n      <td>1925</td>\n      <td>14</td>\n      <td>1980</td>\n      <td>Europe.</td>\n    </tr>\n    <tr>\n      <th>2</th>\n      <td>17.0</td>\n      <td>8</td>\n      <td>302</td>\n      <td>140</td>\n      <td>3449</td>\n      <td>11</td>\n      <td>1971</td>\n      <td>US.</td>\n    </tr>\n    <tr>\n      <th>3</th>\n      <td>15.0</td>\n      <td>8</td>\n      <td>400</td>\n      <td>150</td>\n      <td>3761</td>\n      <td>10</td>\n      <td>1971</td>\n      <td>US.</td>\n    </tr>\n    <tr>\n      <th>4</th>\n      <td>30.5</td>\n      <td>4</td>\n      <td>98</td>\n      <td>63</td>\n      <td>2051</td>\n      <td>17</td>\n      <td>1978</td>\n      <td>US.</td>\n    </tr>\n  </tbody>\n</table>\n</div>"
     },
     "metadata": {},
     "execution_count": 3
    }
   ],
   "source": [
    "cars.head()"
   ]
  },
  {
   "cell_type": "code",
   "execution_count": 17,
   "metadata": {
    "tags": []
   },
   "outputs": [
    {
     "output_type": "stream",
     "name": "stdout",
     "text": "<class 'pandas.core.frame.DataFrame'>\nRangeIndex: 261 entries, 0 to 260\nData columns (total 8 columns):\n #   Column       Non-Null Count  Dtype  \n---  ------       --------------  -----  \n 0   mpg          261 non-null    float64\n 1   cylinders    261 non-null    int64  \n 2   cubicinches  259 non-null    float64\n 3   hp           261 non-null    int64  \n 4   weightlbs    258 non-null    float64\n 5   time-to-60   261 non-null    int64  \n 6   year         261 non-null    int64  \n 7   brand        261 non-null    object \ndtypes: float64(3), int64(4), object(1)\nmemory usage: 16.4+ KB\n"
    }
   ],
   "source": [
    "cars.info()"
   ]
  },
  {
   "cell_type": "code",
   "execution_count": 6,
   "metadata": {},
   "outputs": [
    {
     "output_type": "execute_result",
     "data": {
      "text/plain": "mpg            0\ncylinders      0\ncubicinches    0\nhp             0\nweightlbs      0\ntime-to-60     0\nyear           0\nbrand          0\ndtype: int64"
     },
     "metadata": {},
     "execution_count": 6
    }
   ],
   "source": [
    "cars.isnull().sum()"
   ]
  },
  {
   "cell_type": "markdown",
   "metadata": {},
   "source": [
    "### Questão 1: Após a utilização da biblioteca pandas para a leitura dos dados sobre os valores lidos, é CORRETO afirmar:\n",
    "Não foram encontrados valores nulos após a leitura dos dados"
   ]
  },
  {
   "cell_type": "code",
   "execution_count": 14,
   "metadata": {},
   "outputs": [],
   "source": [
    "cars['cubicinches'] = pd.to_numeric(cars['cubicinches'], errors='coerce')"
   ]
  },
  {
   "cell_type": "code",
   "execution_count": 15,
   "metadata": {},
   "outputs": [],
   "source": [
    "cars['weightlbs'] = pd.to_numeric(cars['weightlbs'], errors='coerce')"
   ]
  },
  {
   "cell_type": "code",
   "execution_count": 21,
   "metadata": {},
   "outputs": [
    {
     "output_type": "execute_result",
     "data": {
      "text/plain": "mpg            0\ncylinders      0\ncubicinches    2\nhp             0\nweightlbs      3\ntime-to-60     0\nyear           0\nbrand          0\ndtype: int64"
     },
     "metadata": {},
     "execution_count": 21
    }
   ],
   "source": [
    "cars.isnull().sum()"
   ]
  },
  {
   "cell_type": "markdown",
   "metadata": {},
   "source": [
    "### Questão 2: Realize a transformação das colunas \"cubicinches\" e \"weightlbs\" do tipo \"string\" para o tipo numérico utilizando o pd.to_numeric(), com o parâmetro errors='coerce'. Após essa transformação é CORRETO afirmar:\n",
    "Essa transformação adiciona valores nulos ao nosso dataset"
   ]
  },
  {
   "cell_type": "code",
   "execution_count": 40,
   "metadata": {},
   "outputs": [
    {
     "output_type": "execute_result",
     "data": {
      "text/plain": "      mpg  cylinders  cubicinches   hp  weightlbs  time-to-60  year brand\n40   16.0          6          NaN  105     3897.0          19  1976   US.\n180  19.8          6          NaN   85     2990.0          18  1980   US.",
      "text/html": "<div>\n<style scoped>\n    .dataframe tbody tr th:only-of-type {\n        vertical-align: middle;\n    }\n\n    .dataframe tbody tr th {\n        vertical-align: top;\n    }\n\n    .dataframe thead th {\n        text-align: right;\n    }\n</style>\n<table border=\"1\" class=\"dataframe\">\n  <thead>\n    <tr style=\"text-align: right;\">\n      <th></th>\n      <th>mpg</th>\n      <th>cylinders</th>\n      <th>cubicinches</th>\n      <th>hp</th>\n      <th>weightlbs</th>\n      <th>time-to-60</th>\n      <th>year</th>\n      <th>brand</th>\n    </tr>\n  </thead>\n  <tbody>\n    <tr>\n      <th>40</th>\n      <td>16.0</td>\n      <td>6</td>\n      <td>NaN</td>\n      <td>105</td>\n      <td>3897.0</td>\n      <td>19</td>\n      <td>1976</td>\n      <td>US.</td>\n    </tr>\n    <tr>\n      <th>180</th>\n      <td>19.8</td>\n      <td>6</td>\n      <td>NaN</td>\n      <td>85</td>\n      <td>2990.0</td>\n      <td>18</td>\n      <td>1980</td>\n      <td>US.</td>\n    </tr>\n  </tbody>\n</table>\n</div>"
     },
     "metadata": {},
     "execution_count": 40
    }
   ],
   "source": [
    "cars[cars['cubicinches'].isnull()]"
   ]
  },
  {
   "cell_type": "markdown",
   "metadata": {},
   "source": [
    "### Questão 3: Indique quais eram os índices dos valores presentes no dataset que \"forçaram\" o pandas a compreender a variável \"cubicinches\" como string.\n",
    "40 e 180"
   ]
  },
  {
   "cell_type": "markdown",
   "metadata": {},
   "source": [
    "### Questão 4: Após a transformação das variáveis \"string\" para os valores numéricos, quantos valores nulos (células no dataframe) passaram a existir no dataset?\n",
    "5"
   ]
  },
  {
   "cell_type": "code",
   "execution_count": 44,
   "metadata": {},
   "outputs": [],
   "source": [
    "cars['cubicinches'].fillna(cars['cubicinches'].mean(), inplace=True)"
   ]
  },
  {
   "cell_type": "code",
   "execution_count": 45,
   "metadata": {},
   "outputs": [],
   "source": [
    "cars['weightlbs'].fillna(cars['weightlbs'].mean(), inplace=True)"
   ]
  },
  {
   "cell_type": "code",
   "execution_count": 46,
   "metadata": {},
   "outputs": [
    {
     "output_type": "execute_result",
     "data": {
      "text/plain": "              mpg   cylinders  cubicinches          hp    weightlbs  \\\ncount  261.000000  261.000000   261.000000  261.000000   261.000000   \nmean    23.144828    5.590038   200.918919  106.360153  3009.833333   \nstd      7.823570    1.733310   108.837269   40.499959   849.097575   \nmin     10.000000    3.000000    68.000000   46.000000  1613.000000   \n25%     16.900000    4.000000   101.000000   75.000000  2254.000000   \n50%     22.000000    6.000000   156.000000   95.000000  2904.000000   \n75%     28.800000    8.000000   302.000000  138.000000  3664.000000   \nmax     46.600000    8.000000   455.000000  230.000000  4997.000000   \n\n       time-to-60         year  \ncount  261.000000   261.000000  \nmean    15.547893  1976.819923  \nstd      2.910625     3.637696  \nmin      8.000000  1971.000000  \n25%     14.000000  1974.000000  \n50%     16.000000  1977.000000  \n75%     17.000000  1980.000000  \nmax     25.000000  1983.000000  ",
      "text/html": "<div>\n<style scoped>\n    .dataframe tbody tr th:only-of-type {\n        vertical-align: middle;\n    }\n\n    .dataframe tbody tr th {\n        vertical-align: top;\n    }\n\n    .dataframe thead th {\n        text-align: right;\n    }\n</style>\n<table border=\"1\" class=\"dataframe\">\n  <thead>\n    <tr style=\"text-align: right;\">\n      <th></th>\n      <th>mpg</th>\n      <th>cylinders</th>\n      <th>cubicinches</th>\n      <th>hp</th>\n      <th>weightlbs</th>\n      <th>time-to-60</th>\n      <th>year</th>\n    </tr>\n  </thead>\n  <tbody>\n    <tr>\n      <th>count</th>\n      <td>261.000000</td>\n      <td>261.000000</td>\n      <td>261.000000</td>\n      <td>261.000000</td>\n      <td>261.000000</td>\n      <td>261.000000</td>\n      <td>261.000000</td>\n    </tr>\n    <tr>\n      <th>mean</th>\n      <td>23.144828</td>\n      <td>5.590038</td>\n      <td>200.918919</td>\n      <td>106.360153</td>\n      <td>3009.833333</td>\n      <td>15.547893</td>\n      <td>1976.819923</td>\n    </tr>\n    <tr>\n      <th>std</th>\n      <td>7.823570</td>\n      <td>1.733310</td>\n      <td>108.837269</td>\n      <td>40.499959</td>\n      <td>849.097575</td>\n      <td>2.910625</td>\n      <td>3.637696</td>\n    </tr>\n    <tr>\n      <th>min</th>\n      <td>10.000000</td>\n      <td>3.000000</td>\n      <td>68.000000</td>\n      <td>46.000000</td>\n      <td>1613.000000</td>\n      <td>8.000000</td>\n      <td>1971.000000</td>\n    </tr>\n    <tr>\n      <th>25%</th>\n      <td>16.900000</td>\n      <td>4.000000</td>\n      <td>101.000000</td>\n      <td>75.000000</td>\n      <td>2254.000000</td>\n      <td>14.000000</td>\n      <td>1974.000000</td>\n    </tr>\n    <tr>\n      <th>50%</th>\n      <td>22.000000</td>\n      <td>6.000000</td>\n      <td>156.000000</td>\n      <td>95.000000</td>\n      <td>2904.000000</td>\n      <td>16.000000</td>\n      <td>1977.000000</td>\n    </tr>\n    <tr>\n      <th>75%</th>\n      <td>28.800000</td>\n      <td>8.000000</td>\n      <td>302.000000</td>\n      <td>138.000000</td>\n      <td>3664.000000</td>\n      <td>17.000000</td>\n      <td>1980.000000</td>\n    </tr>\n    <tr>\n      <th>max</th>\n      <td>46.600000</td>\n      <td>8.000000</td>\n      <td>455.000000</td>\n      <td>230.000000</td>\n      <td>4997.000000</td>\n      <td>25.000000</td>\n      <td>1983.000000</td>\n    </tr>\n  </tbody>\n</table>\n</div>"
     },
     "metadata": {},
     "execution_count": 46
    }
   ],
   "source": [
    "cars.describe()"
   ]
  },
  {
   "cell_type": "markdown",
   "metadata": {},
   "source": [
    "### Questão 5: Substitua os valores nulos introduzidos no dataset, após a transformação, pelo valor médio das colunas. Qual é o novo valor médio da coluna \"weightlbs\"?\n",
    "3009,83"
   ]
  },
  {
   "cell_type": "code",
   "execution_count": 47,
   "metadata": {},
   "outputs": [
    {
     "output_type": "execute_result",
     "data": {
      "text/plain": "22.0"
     },
     "metadata": {},
     "execution_count": 47
    }
   ],
   "source": [
    "cars.mpg.median()"
   ]
  },
  {
   "cell_type": "markdown",
   "metadata": {},
   "source": [
    "### Questão 6: Após substituir os valores nulos pela média das colunas, selecione as colunas 'mpg', 'cylinders', 'cubicinches', 'hp', 'weightlbs', 'time-to-60', 'year'. Qual é o valor da mediana para a característica 'mpg'?\n",
    "22,0"
   ]
  },
  {
   "cell_type": "code",
   "execution_count": 48,
   "metadata": {},
   "outputs": [
    {
     "output_type": "execute_result",
     "data": {
      "text/plain": "              mpg   cylinders  cubicinches          hp    weightlbs  \\\ncount  261.000000  261.000000   261.000000  261.000000   261.000000   \nmean    23.144828    5.590038   200.918919  106.360153  3009.833333   \nstd      7.823570    1.733310   108.837269   40.499959   849.097575   \nmin     10.000000    3.000000    68.000000   46.000000  1613.000000   \n25%     16.900000    4.000000   101.000000   75.000000  2254.000000   \n50%     22.000000    6.000000   156.000000   95.000000  2904.000000   \n75%     28.800000    8.000000   302.000000  138.000000  3664.000000   \nmax     46.600000    8.000000   455.000000  230.000000  4997.000000   \n\n       time-to-60         year  \ncount  261.000000   261.000000  \nmean    15.547893  1976.819923  \nstd      2.910625     3.637696  \nmin      8.000000  1971.000000  \n25%     14.000000  1974.000000  \n50%     16.000000  1977.000000  \n75%     17.000000  1980.000000  \nmax     25.000000  1983.000000  ",
      "text/html": "<div>\n<style scoped>\n    .dataframe tbody tr th:only-of-type {\n        vertical-align: middle;\n    }\n\n    .dataframe tbody tr th {\n        vertical-align: top;\n    }\n\n    .dataframe thead th {\n        text-align: right;\n    }\n</style>\n<table border=\"1\" class=\"dataframe\">\n  <thead>\n    <tr style=\"text-align: right;\">\n      <th></th>\n      <th>mpg</th>\n      <th>cylinders</th>\n      <th>cubicinches</th>\n      <th>hp</th>\n      <th>weightlbs</th>\n      <th>time-to-60</th>\n      <th>year</th>\n    </tr>\n  </thead>\n  <tbody>\n    <tr>\n      <th>count</th>\n      <td>261.000000</td>\n      <td>261.000000</td>\n      <td>261.000000</td>\n      <td>261.000000</td>\n      <td>261.000000</td>\n      <td>261.000000</td>\n      <td>261.000000</td>\n    </tr>\n    <tr>\n      <th>mean</th>\n      <td>23.144828</td>\n      <td>5.590038</td>\n      <td>200.918919</td>\n      <td>106.360153</td>\n      <td>3009.833333</td>\n      <td>15.547893</td>\n      <td>1976.819923</td>\n    </tr>\n    <tr>\n      <th>std</th>\n      <td>7.823570</td>\n      <td>1.733310</td>\n      <td>108.837269</td>\n      <td>40.499959</td>\n      <td>849.097575</td>\n      <td>2.910625</td>\n      <td>3.637696</td>\n    </tr>\n    <tr>\n      <th>min</th>\n      <td>10.000000</td>\n      <td>3.000000</td>\n      <td>68.000000</td>\n      <td>46.000000</td>\n      <td>1613.000000</td>\n      <td>8.000000</td>\n      <td>1971.000000</td>\n    </tr>\n    <tr>\n      <th>25%</th>\n      <td>16.900000</td>\n      <td>4.000000</td>\n      <td>101.000000</td>\n      <td>75.000000</td>\n      <td>2254.000000</td>\n      <td>14.000000</td>\n      <td>1974.000000</td>\n    </tr>\n    <tr>\n      <th>50%</th>\n      <td>22.000000</td>\n      <td>6.000000</td>\n      <td>156.000000</td>\n      <td>95.000000</td>\n      <td>2904.000000</td>\n      <td>16.000000</td>\n      <td>1977.000000</td>\n    </tr>\n    <tr>\n      <th>75%</th>\n      <td>28.800000</td>\n      <td>8.000000</td>\n      <td>302.000000</td>\n      <td>138.000000</td>\n      <td>3664.000000</td>\n      <td>17.000000</td>\n      <td>1980.000000</td>\n    </tr>\n    <tr>\n      <th>max</th>\n      <td>46.600000</td>\n      <td>8.000000</td>\n      <td>455.000000</td>\n      <td>230.000000</td>\n      <td>4997.000000</td>\n      <td>25.000000</td>\n      <td>1983.000000</td>\n    </tr>\n  </tbody>\n</table>\n</div>"
     },
     "metadata": {},
     "execution_count": 48
    }
   ],
   "source": [
    "cars. describe()"
   ]
  },
  {
   "cell_type": "markdown",
   "metadata": {},
   "source": [
    "### Questão 7: Qual é a afirmação CORRETA sobre o valor de 14,00 para a variável \"time-to-60\"?\n",
    "75% dos dados são maiores que o valor de 14,00"
   ]
  }
 ],
 "metadata": {
  "language_info": {
   "codemirror_mode": {
    "name": "ipython",
    "version": 3
   },
   "file_extension": ".py",
   "mimetype": "text/x-python",
   "name": "python",
   "nbconvert_exporter": "python",
   "pygments_lexer": "ipython3",
   "version": 3
  },
  "orig_nbformat": 2,
  "kernelspec": {
   "name": "python_defaultSpec_1594733865970",
   "display_name": "Python 3.8.3 64-bit ('aceleradev_ds': conda)"
  }
 },
 "nbformat": 4,
 "nbformat_minor": 2
}